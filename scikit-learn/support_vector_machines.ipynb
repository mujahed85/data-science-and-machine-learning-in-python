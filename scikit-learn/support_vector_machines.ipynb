{
 "cells": [
  {
   "cell_type": "markdown",
   "metadata": {},
   "source": [
    "# Support Vector Machines\n",
    "Support vector machines (SVMs) are a set of supervised learning methods used for classification, regression and outliers detection. The main functions used here are SVC for classfication and SVR for regression.\n",
    "\n",
    "- [svm.SVC](http://scikit-learn.org/stable/modules/generated/sklearn.svm.SVC.html#sklearn.svm.SVC)\n",
    "- [svm.SVR](http://scikit-learn.org/stable/modules/generated/sklearn.svm.SVR.html#sklearn.svm.SVR)"
   ]
  },
  {
   "cell_type": "code",
   "execution_count": 61,
   "metadata": {},
   "outputs": [],
   "source": [
    "from sklearn import svm, datasets\n",
    "from sklearn.preprocessing import StandardScaler\n",
    "from sklearn.metrics import confusion_matrix, mean_squared_error\n",
    "import numpy as np\n",
    "import matplotlib.pyplot as plt"
   ]
  },
  {
   "cell_type": "markdown",
   "metadata": {},
   "source": [
    "## Classification with SVMs\n",
    "\n",
    "A classification example on a toy data set. Fitting the model and predicting."
   ]
  },
  {
   "cell_type": "code",
   "execution_count": 3,
   "metadata": {},
   "outputs": [
    {
     "data": {
      "text/plain": [
       "array([1])"
      ]
     },
     "execution_count": 3,
     "metadata": {},
     "output_type": "execute_result"
    }
   ],
   "source": [
    "X = [[0, 0], [1, 1]]\n",
    "y = [0, 1]\n",
    "clf = svm.SVC()\n",
    "clf.fit(X, y)\n",
    "clf.predict([[2., 2.]])"
   ]
  },
  {
   "cell_type": "markdown",
   "metadata": {},
   "source": [
    "Identifying the support vectors from all the training points."
   ]
  },
  {
   "cell_type": "code",
   "execution_count": 30,
   "metadata": {
    "scrolled": true
   },
   "outputs": [
    {
     "name": "stdout",
     "output_type": "stream",
     "text": [
      "[[ 0.         -0.33501649 -1.09493684 ...,  1.56568555  1.6951369\n",
      "  -0.19600752]\n",
      " [ 0.         -0.33501649 -0.88456568 ..., -0.63808502 -0.5056698\n",
      "  -0.19600752]\n",
      " [ 0.         -0.33501649 -1.09493684 ...,  0.20951905 -0.5056698\n",
      "  -0.19600752]\n",
      " ..., \n",
      " [ 0.         -0.33501649  0.58803248 ..., -0.97712664 -0.5056698\n",
      "  -0.19600752]\n",
      " [ 0.         -0.33501649 -0.04308102 ..., -0.63808502 -0.5056698\n",
      "  -0.19600752]\n",
      " [ 0.         -0.33501649 -0.88456568 ..., -0.12952258 -0.5056698\n",
      "  -0.19600752]]\n",
      "[   2   10   24   36   50   54   68   78   87  101  103  110  111  115  116\n",
      "  142  144  150  151  177  184  186  192  198  215  218  226  231  241  243\n",
      "  303  304  306  328  341  363  369  387  389  397  399  409  427  431  442\n",
      "  445  446  448  449  469  470  473  475  477  479  485  489  502  518  519\n",
      "  529  539  563  564  566  575  576  578  579  584  586  593  594  603  605\n",
      "  606  607  609  615  617  623  637  649  657  688  691  700  703  705  710\n",
      "  721  723  731  736  737  744  745  746  753  756  757  767  770  779  780\n",
      "  790  800  818  821  823  827  831  836  838  846  856  861  873  879  883\n",
      "  886  887  889  891  892  900  908  917  919  926  947  950  964  965  966\n",
      "  970  985  988  998 1001 1022 1030 1032 1033 1043 1049 1070 1077 1078 1083\n",
      " 1086 1095 1110 1117 1118 1125 1126 1130 1138 1151 1157 1178 1187 1202 1205\n",
      " 1229 1242 1248 1256 1258 1264 1273 1281 1283 1287 1288 1310 1311 1323 1344\n",
      " 1346 1347 1349 1359 1366 1457 1469 1495 1499 1514 1522 1555 1556 1557 1559\n",
      " 1565 1573 1579 1590 1591 1592 1598 1602 1603 1605 1606 1611 1615 1618 1626\n",
      " 1628 1632 1651 1654 1660 1668 1670 1671 1679 1688 1690 1708 1709 1712 1714\n",
      " 1717 1723 1726 1727 1729 1730 1731 1735 1737 1742 1747 1752 1757 1758 1765\n",
      " 1766 1768 1774    5    7   16   19   27   29   31   33   37   39   43   46\n",
      "   52   53   61   69   74   76   86   92   95   96  105  106  114  120  122\n",
      "  123  127  128  129  145  147  158  161  163  168  170  191  206  211  216\n",
      "  233  237  240  242  248  249  253  261  263  265  283  314  317  327  362\n",
      "  373  374  378  392  393  395  402  412  418  421  423  429  447  467  480\n",
      "  488  491  492  494  505  511  523  524  525  543  545  547  555  574  592\n",
      "  638  639  643  655  673  677  678  681  683  689  690  719  720  732  734\n",
      "  738  758  760  769  771  784  792  794  795  804  805  807  808  813  814\n",
      "  843  845  852  857  872  884  890  893  895  898  899  901  903  905  912\n",
      "  921  922  923  949  951  960 1009 1015 1037 1038 1073 1079 1080 1088 1094\n",
      " 1098 1109 1115 1131 1145 1146 1149 1152 1154 1156 1165 1176 1191 1195 1218\n",
      " 1249 1259 1266 1271 1274 1275 1277 1279 1280 1284 1285 1293 1302 1305 1313\n",
      " 1327 1330 1331 1356 1363 1373 1375 1383 1389 1393 1401 1409 1410 1412 1424\n",
      " 1440 1443 1454 1459 1468 1473 1481 1488 1489 1491 1497 1520 1532 1534 1538\n",
      " 1540 1543 1551 1552 1553 1561 1569 1571 1572 1574 1575 1576 1581 1595 1617\n",
      " 1619 1627 1635 1645 1646 1647 1649 1656 1657 1658 1659 1662 1675 1685 1710\n",
      " 1728 1732 1734 1738 1748 1753 1771 1772 1779 1781 1786 1789 1790 1794]\n"
     ]
    }
   ],
   "source": [
    "# get support vectors\n",
    "print(clf_digits.support_vectors_)\n",
    "# get indices of support vectors\n",
    "print(clf_digits.support_)"
   ]
  },
  {
   "cell_type": "markdown",
   "metadata": {},
   "source": [
    "### Hand written digit recognition (two classes)\n",
    "Working on the same problem as in the logistic regression notebook."
   ]
  },
  {
   "cell_type": "code",
   "execution_count": 4,
   "metadata": {
    "collapsed": true
   },
   "outputs": [
    {
     "name": "stdout",
     "output_type": "stream",
     "text": [
      "(1797, 64)\n",
      "(1797,)\n"
     ]
    }
   ],
   "source": [
    "digits = datasets.load_digits()\n",
    "print(digits.data.shape)\n",
    "print(digits.target.shape)\n",
    "X, y = digits.data, digits.target\n",
    "X = StandardScaler().fit_transform(X)\n",
    "# classify small against large digits\n",
    "y = (y > 4).astype(np.int)"
   ]
  },
  {
   "cell_type": "markdown",
   "metadata": {},
   "source": [
    "### Fitting the SVM classifier\n",
    "Fitting the SVM model and predicting on the training set."
   ]
  },
  {
   "cell_type": "code",
   "execution_count": null,
   "metadata": {
    "collapsed": true
   },
   "outputs": [],
   "source": [
    "clf_digits = svm.SVC()\n",
    "clf_digits.fit(X, y)\n",
    "pred = clf_digits.predict(X)"
   ]
  },
  {
   "cell_type": "markdown",
   "metadata": {},
   "source": [
    "### Confusion Matrix\n",
    "Validating the model using the accuracy computed on the training set using the confusion matrix."
   ]
  },
  {
   "cell_type": "code",
   "execution_count": 23,
   "metadata": {},
   "outputs": [
    {
     "name": "stdout",
     "output_type": "stream",
     "text": [
      "[[895   6]\n",
      " [  6 890]]\n",
      "Accuracy on the training set: 99.33 %\n"
     ]
    }
   ],
   "source": [
    "cmat = confusion_matrix(y, pred)\n",
    "print(cmat)\n",
    "accuracy = 100*cmat.diagonal().sum()/cmat.sum()\n",
    "print(\"Accuracy on the training set:\", round(accuracy, 2), \"%\")"
   ]
  },
  {
   "cell_type": "markdown",
   "metadata": {},
   "source": [
    "### Multi-class classification\n",
    "For multi class problem, we have to train multiple SVM models since there is no method to incorporate multiple classes within the same SVM model. It is possible to handle this problem in many ways. One is to train $n\\times(n-1)/2$ models for each combination of the classes. This is called \"One vs One\" or \"ovo\". The other is to train $n$ models to check whether an observation belongs to each class. This is called \"One vs Rest\" or \"ovr\"."
   ]
  },
  {
   "cell_type": "code",
   "execution_count": 34,
   "metadata": {},
   "outputs": [
    {
     "data": {
      "text/plain": [
       "SVC(C=1.0, cache_size=200, class_weight=None, coef0=0.0,\n",
       "  decision_function_shape='ovo', degree=3, gamma='auto', kernel='rbf',\n",
       "  max_iter=-1, probability=False, random_state=None, shrinking=True,\n",
       "  tol=0.001, verbose=False)"
      ]
     },
     "execution_count": 34,
     "metadata": {},
     "output_type": "execute_result"
    }
   ],
   "source": [
    "X = [[0], [1], [2], [3]]\n",
    "Y = [0, 1, 2, 3]\n",
    "clf = svm.SVC(decision_function_shape='ovo')\n",
    "clf.fit(X, Y) "
   ]
  },
  {
   "cell_type": "code",
   "execution_count": 38,
   "metadata": {},
   "outputs": [
    {
     "data": {
      "text/plain": [
       "array([[-0.63212056,  0.        ,  0.3495638 ,  0.63212056,  0.98168436,\n",
       "         0.3495638 ]])"
      ]
     },
     "execution_count": 38,
     "metadata": {},
     "output_type": "execute_result"
    }
   ],
   "source": [
    "dec = clf.decision_function([[1]])\n",
    "dec"
   ]
  },
  {
   "cell_type": "code",
   "execution_count": 33,
   "metadata": {},
   "outputs": [
    {
     "data": {
      "text/plain": [
       "4"
      ]
     },
     "execution_count": 33,
     "metadata": {},
     "output_type": "execute_result"
    }
   ],
   "source": [
    "clf.decision_function_shape = \"ovr\"\n",
    "dec = clf.decision_function([[1]])\n",
    "dec.shape[1] # 4 classes"
   ]
  },
  {
   "cell_type": "markdown",
   "metadata": {},
   "source": [
    "### Hand written digit recognition (multiple classes)\n",
    "\n",
    "#### One vs One Strategy"
   ]
  },
  {
   "cell_type": "code",
   "execution_count": 42,
   "metadata": {},
   "outputs": [],
   "source": [
    "X, y = digits.data, digits.target\n",
    "X = StandardScaler().fit_transform(X)\n",
    "clf_digit_ovo = svm.SVC(decision_function_shape='ovo')\n",
    "clf_digit_ovo.fit(X, y)\n",
    "pred = clf_digit_ovo.predict(X)"
   ]
  },
  {
   "cell_type": "markdown",
   "metadata": {},
   "source": [
    "##### Confusion Matrix and accuracy on training data"
   ]
  },
  {
   "cell_type": "code",
   "execution_count": 43,
   "metadata": {},
   "outputs": [
    {
     "name": "stdout",
     "output_type": "stream",
     "text": [
      "[[178   0   0   0   0   0   0   0   0   0]\n",
      " [  0 182   0   0   0   0   0   0   0   0]\n",
      " [  0   0 177   0   0   0   0   0   0   0]\n",
      " [  0   0   0 183   0   0   0   0   0   0]\n",
      " [  0   0   0   0 181   0   0   0   0   0]\n",
      " [  0   0   0   0   0 181   0   0   0   1]\n",
      " [  0   0   0   0   0   0 181   0   0   0]\n",
      " [  0   0   0   0   0   0   0 178   0   1]\n",
      " [  0   2   0   0   0   0   0   0 172   0]\n",
      " [  0   0   0   0   0   0   0   0   2 178]]\n",
      "Accuracy on the training set: 99.67 %\n"
     ]
    }
   ],
   "source": [
    "cmat = confusion_matrix(y, pred)\n",
    "print(cmat)\n",
    "accuracy = 100*cmat.diagonal().sum()/cmat.sum()\n",
    "print(\"Accuracy on the training set:\", round(accuracy, 2), \"%\")"
   ]
  },
  {
   "cell_type": "markdown",
   "metadata": {},
   "source": [
    "#### One vs Rest Srategy"
   ]
  },
  {
   "cell_type": "code",
   "execution_count": 49,
   "metadata": {},
   "outputs": [
    {
     "name": "stdout",
     "output_type": "stream",
     "text": [
      "[[178   0   0   0   0   0   0   0   0   0]\n",
      " [  0 182   0   0   0   0   0   0   0   0]\n",
      " [  0   0 177   0   0   0   0   0   0   0]\n",
      " [  0   0   0 183   0   0   0   0   0   0]\n",
      " [  0   0   0   0 181   0   0   0   0   0]\n",
      " [  0   0   0   0   0 181   0   0   0   1]\n",
      " [  0   0   0   0   0   0 181   0   0   0]\n",
      " [  0   0   0   0   0   0   0 178   0   1]\n",
      " [  0   2   0   0   0   0   0   0 172   0]\n",
      " [  0   0   0   0   0   0   0   0   2 178]]\n",
      "Accuracy on the training set: 99.67 %\n"
     ]
    }
   ],
   "source": [
    "clf_digit_ovr = svm.SVC(decision_function_shape='ovr')\n",
    "clf_digit_ovr.fit(X, y)\n",
    "pred = clf_digit_ovr.predict(X)\n",
    "cmat = confusion_matrix(y, pred)\n",
    "print(cmat)\n",
    "accuracy = 100*cmat.diagonal().sum()/cmat.sum()\n",
    "print(\"Accuracy on the training set:\", round(accuracy, 2), \"%\")"
   ]
  },
  {
   "cell_type": "markdown",
   "metadata": {},
   "source": [
    "### Trying out different kernels\n",
    "We can also try out different kernels to see which one performs the best. The four possible kernels are linear, polynomial, sigmoid and radial basis function kernel (rbf)."
   ]
  },
  {
   "cell_type": "code",
   "execution_count": 54,
   "metadata": {},
   "outputs": [
    {
     "name": "stdout",
     "output_type": "stream",
     "text": [
      "Accuracy on the training set with rbf kernel: 99.67 %\n",
      "Accuracy on the training set with linear kernel: 100.0 %\n",
      "Accuracy on the training set with poly kernel: 98.11 %\n",
      "Accuracy on the training set with sigmoid kernel: 95.77 %\n"
     ]
    }
   ],
   "source": [
    "def svm_kernel(X=X,y=y,kern=\"rbf\"):\n",
    "    clf_digit_ovr = svm.SVC(decision_function_shape='ovr', kernel = kern)\n",
    "    clf_digit_ovr.fit(X, y)\n",
    "    pred = clf_digit_ovr.predict(X)\n",
    "    cmat = confusion_matrix(y, pred)\n",
    "    accuracy = 100*cmat.diagonal().sum()/cmat.sum()\n",
    "    print(\"Accuracy on the training set with\", kern, \"kernel:\", round(accuracy, 2), \"%\")\n",
    "\n",
    "svm_kernel()\n",
    "svm_kernel(kern = \"linear\")\n",
    "svm_kernel(kern = \"poly\")\n",
    "svm_kernel(kern = \"sigmoid\")"
   ]
  },
  {
   "cell_type": "markdown",
   "metadata": {},
   "source": [
    "## Regression with SVMs\n",
    "Trying to perform regression on the diabetes data set that was used for linear regression. The MSPE for multiple linear regression was 2004.57. We will see how SVM performs on the same data using different kernels."
   ]
  },
  {
   "cell_type": "code",
   "execution_count": 60,
   "metadata": {},
   "outputs": [
    {
     "name": "stdout",
     "output_type": "stream",
     "text": [
      "MSPE with rbf kernel: 5027.67650771\n",
      "MSPE with linear kernel: 4887.89694401\n",
      "MSPE with poly kernel: 5065.24991432\n",
      "MSPE with sigmoid kernel: 5046.30792257\n"
     ]
    }
   ],
   "source": [
    "diabetes = datasets.load_diabetes()\n",
    "diabetes_X_train = diabetes.data[:-20]\n",
    "diabetes_X_test = diabetes.data[-20:]\n",
    "diabetes_y_train = diabetes.target[:-20]\n",
    "diabetes_y_test = diabetes.target[-20:]\n",
    "\n",
    "for kern in [\"rbf\", \"linear\", \"poly\", \"sigmoid\"]:\n",
    "    svm_reg = svm.SVR(kernel = kern)\n",
    "    svm_reg.fit(diabetes_X_train,diabetes_y_train)\n",
    "    pred = svm_reg.predict(diabetes_X_test)\n",
    "    print(\"MSPE with\", kern, \"kernel:\", mean_squared_error(diabetes_y_test, pred))"
   ]
  },
  {
   "cell_type": "markdown",
   "metadata": {},
   "source": [
    "The SVM performs worse than linear regression. Let's look at another case where the power of SVM regression can be seen.\n",
    "\n",
    "#### Toy example of 1D regression using linear, polynomial and RBF kernels\n",
    "\n",
    "##### Generating sample data\n",
    "\n",
    "We will generate data randomly from a cubic function and then add some noise to the data. We expect the polynomial kernel to perform the best here."
   ]
  },
  {
   "cell_type": "code",
   "execution_count": 96,
   "metadata": {},
   "outputs": [],
   "source": [
    "np.random.seed(2017-12-28)\n",
    "X = np.sort(5 * np.random.rand(40, 1), axis=0)\n",
    "y = (X**3).ravel()\n",
    "y[::5] += 3 * (5 - np.random.rand(8))"
   ]
  },
  {
   "cell_type": "markdown",
   "metadata": {},
   "source": [
    "##### Fitting the SVR models using different kernels"
   ]
  },
  {
   "cell_type": "code",
   "execution_count": 97,
   "metadata": {},
   "outputs": [
    {
     "data": {
      "image/png": "[encoded data removed]",
      "text/plain": [
       "<matplotlib.figure.Figure at 0x15d7f425940>"
      ]
     },
     "metadata": {},
     "output_type": "display_data"
    }
   ],
   "source": [
    "plt.scatter(X,y, label = \"data\")\n",
    "kernels = [\"rbf\", \"linear\", \"poly\", \"sigmoid\"]\n",
    "colors = [\"red\", \"blue\", \"green\", \"yellow\"]\n",
    "for kern, col in zip(kernels, colors):\n",
    "    svr_reg = svm.SVR(kernel = kern)\n",
    "    svr_reg.fit(X,y)\n",
    "    pred = svr_reg.predict(X)\n",
    "    plt.plot(X, pred, color = col, label = kern + \" kernel\")\n",
    "\n",
    "plt.xlabel('data')\n",
    "plt.ylabel('target')\n",
    "plt.title('Support Vector Regression')\n",
    "plt.legend()\n",
    "plt.show()"
   ]
  }
 ],
 "metadata": {
  "kernelspec": {
   "display_name": "Python 3",
   "language": "python",
   "name": "python3"
  },
  "language_info": {
   "codemirror_mode": {
    "name": "ipython",
    "version": 3
   },
   "file_extension": ".py",
   "mimetype": "text/x-python",
   "name": "python",
   "nbconvert_exporter": "python",
   "pygments_lexer": "ipython3",
   "version": "3.6.1"
  }
 },
 "nbformat": 4,
 "nbformat_minor": 2
}
