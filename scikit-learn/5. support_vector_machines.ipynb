{
 "cells": [
  {
   "cell_type": "markdown",
   "metadata": {},
   "source": [
    "# Support Vector Machines\n",
    "Support vector machines (SVMs) are a set of supervised learning methods used for classification, regression and outliers detection. The main functions used here are SVC for classfication and SVR for regression.\n",
    "\n",
    "- [svm.SVC](http://scikit-learn.org/stable/modules/generated/sklearn.svm.SVC.html#sklearn.svm.SVC)\n",
    "- [svm.SVR](http://scikit-learn.org/stable/modules/generated/sklearn.svm.SVR.html#sklearn.svm.SVR)"
   ]
  },
  {
   "cell_type": "code",
   "execution_count": 83,
   "metadata": {
    "collapsed": true
   },
   "outputs": [],
   "source": [
    "from sklearn import svm, datasets\n",
    "from sklearn.preprocessing import StandardScaler\n",
    "from sklearn.metrics import confusion_matrix, mean_squared_error\n",
    "import numpy as np\n",
    "import matplotlib.pyplot as plt\n",
    "%matplotlib inline"
   ]
  },
  {
   "cell_type": "markdown",
   "metadata": {},
   "source": [
    "## Classification with SVMs\n",
    "\n",
    "A classification example on a toy data set. Fitting the model and predicting."
   ]
  },
  {
   "cell_type": "code",
   "execution_count": 47,
   "metadata": {},
   "outputs": [
    {
     "data": {
      "text/plain": [
       "array([1])"
      ]
     },
     "execution_count": 47,
     "metadata": {},
     "output_type": "execute_result"
    }
   ],
   "source": [
    "X = [[0, 0], [1, 1]]\n",
    "y = [0, 1]\n",
    "clf = svm.SVC()\n",
    "clf.fit(X, y)\n",
    "clf.predict([[2., 2.]])"
   ]
  },
  {
   "cell_type": "markdown",
   "metadata": {},
   "source": [
    "Identifying the support vectors from all the training points."
   ]
  },
  {
   "cell_type": "code",
   "execution_count": 48,
   "metadata": {
    "scrolled": true
   },
   "outputs": [
    {
     "name": "stdout",
     "output_type": "stream",
     "text": [
      "[[ 0.  0.]\n",
      " [ 1.  1.]]\n",
      "[0 1]\n"
     ]
    }
   ],
   "source": [
    "# get support vectors\n",
    "print(clf.support_vectors_)\n",
    "# get indices of support vectors\n",
    "print(clf.support_)"
   ]
  },
  {
   "cell_type": "markdown",
   "metadata": {},
   "source": [
    "### Hand written digit recognition (two classes)\n",
    "Working on the same problem as in the logistic regression notebook."
   ]
  },
  {
   "cell_type": "code",
   "execution_count": 49,
   "metadata": {},
   "outputs": [
    {
     "name": "stdout",
     "output_type": "stream",
     "text": [
      "(1797, 64)\n",
      "(1797,)\n"
     ]
    }
   ],
   "source": [
    "digits = datasets.load_digits()\n",
    "print(digits.data.shape)\n",
    "print(digits.target.shape)\n",
    "X, y = digits.data, digits.target\n",
    "X = StandardScaler().fit_transform(X)\n",
    "# classify small against large digits\n",
    "y = (y > 4).astype(np.int)"
   ]
  },
  {
   "cell_type": "markdown",
   "metadata": {},
   "source": [
    "### Fitting the SVM classifier\n",
    "Fitting the SVM model and predicting on the training set."
   ]
  },
  {
   "cell_type": "code",
   "execution_count": 50,
   "metadata": {
    "collapsed": true
   },
   "outputs": [],
   "source": [
    "clf_digits = svm.SVC()\n",
    "clf_digits.fit(X, y)\n",
    "pred = clf_digits.predict(X)"
   ]
  },
  {
   "cell_type": "markdown",
   "metadata": {},
   "source": [
    "### Confusion Matrix\n",
    "Validating the model using the accuracy computed on the training set using the confusion matrix."
   ]
  },
  {
   "cell_type": "code",
   "execution_count": 51,
   "metadata": {},
   "outputs": [
    {
     "name": "stdout",
     "output_type": "stream",
     "text": [
      "[[895   6]\n",
      " [  6 890]]\n",
      "Accuracy on the training set: 99.33 %\n"
     ]
    }
   ],
   "source": [
    "cmat = confusion_matrix(y, pred)\n",
    "print(cmat)\n",
    "accuracy = 100*cmat.diagonal().sum()/cmat.sum()\n",
    "print(\"Accuracy on the training set:\", round(accuracy, 2), \"%\")"
   ]
  },
  {
   "cell_type": "markdown",
   "metadata": {},
   "source": [
    "### Multi-class classification\n",
    "For multi class problem, we have to train multiple SVM models since there is no method to incorporate multiple classes within the same SVM model. It is possible to handle this problem in many ways. One is to train $n\\times(n-1)/2$ models for each combination of the classes. This is called \"One vs One\" or \"ovo\". The other is to train $n$ models to check whether an observation belongs to each class. This is called \"One vs Rest\" or \"ovr\"."
   ]
  },
  {
   "cell_type": "code",
   "execution_count": 52,
   "metadata": {},
   "outputs": [
    {
     "data": {
      "text/plain": [
       "SVC(C=1.0, cache_size=200, class_weight=None, coef0=0.0,\n",
       "  decision_function_shape='ovo', degree=3, gamma='auto', kernel='rbf',\n",
       "  max_iter=-1, probability=False, random_state=None, shrinking=True,\n",
       "  tol=0.001, verbose=False)"
      ]
     },
     "execution_count": 52,
     "metadata": {},
     "output_type": "execute_result"
    }
   ],
   "source": [
    "X = [[0], [1], [2], [3]]\n",
    "Y = [0, 1, 2, 3]\n",
    "clf = svm.SVC(decision_function_shape='ovo')\n",
    "clf.fit(X, Y) "
   ]
  },
  {
   "cell_type": "code",
   "execution_count": 53,
   "metadata": {},
   "outputs": [
    {
     "data": {
      "text/plain": [
       "array([[-0.63212056,  0.        ,  0.3495638 ,  0.63212056,  0.98168436,\n",
       "         0.3495638 ]])"
      ]
     },
     "execution_count": 53,
     "metadata": {},
     "output_type": "execute_result"
    }
   ],
   "source": [
    "dec = clf.decision_function([[1]])\n",
    "dec"
   ]
  },
  {
   "cell_type": "code",
   "execution_count": 54,
   "metadata": {},
   "outputs": [
    {
     "data": {
      "text/plain": [
       "4"
      ]
     },
     "execution_count": 54,
     "metadata": {},
     "output_type": "execute_result"
    }
   ],
   "source": [
    "clf.decision_function_shape = \"ovr\"\n",
    "dec = clf.decision_function([[1]])\n",
    "dec.shape[1] # 4 classes"
   ]
  },
  {
   "cell_type": "markdown",
   "metadata": {},
   "source": [
    "### Hand written digit recognition (multiple classes)\n",
    "\n",
    "#### One vs One Strategy"
   ]
  },
  {
   "cell_type": "code",
   "execution_count": 55,
   "metadata": {
    "collapsed": true
   },
   "outputs": [],
   "source": [
    "X, y = digits.data, digits.target\n",
    "X = StandardScaler().fit_transform(X)\n",
    "clf_digit_ovo = svm.SVC(decision_function_shape='ovo')\n",
    "clf_digit_ovo.fit(X, y)\n",
    "pred = clf_digit_ovo.predict(X)"
   ]
  },
  {
   "cell_type": "markdown",
   "metadata": {},
   "source": [
    "##### Confusion Matrix and accuracy on training data"
   ]
  },
  {
   "cell_type": "code",
   "execution_count": 56,
   "metadata": {},
   "outputs": [
    {
     "name": "stdout",
     "output_type": "stream",
     "text": [
      "[[178   0   0   0   0   0   0   0   0   0]\n",
      " [  0 182   0   0   0   0   0   0   0   0]\n",
      " [  0   0 177   0   0   0   0   0   0   0]\n",
      " [  0   0   0 183   0   0   0   0   0   0]\n",
      " [  0   0   0   0 181   0   0   0   0   0]\n",
      " [  0   0   0   0   0 181   0   0   0   1]\n",
      " [  0   0   0   0   0   0 181   0   0   0]\n",
      " [  0   0   0   0   0   0   0 178   0   1]\n",
      " [  0   2   0   0   0   0   0   0 172   0]\n",
      " [  0   0   0   0   0   0   0   0   2 178]]\n",
      "Accuracy on the training set: 99.67 %\n"
     ]
    }
   ],
   "source": [
    "cmat = confusion_matrix(y, pred)\n",
    "print(cmat)\n",
    "accuracy = 100*cmat.diagonal().sum()/cmat.sum()\n",
    "print(\"Accuracy on the training set:\", round(accuracy, 2), \"%\")"
   ]
  },
  {
   "cell_type": "markdown",
   "metadata": {},
   "source": [
    "#### One vs Rest Srategy"
   ]
  },
  {
   "cell_type": "code",
   "execution_count": 57,
   "metadata": {},
   "outputs": [
    {
     "name": "stdout",
     "output_type": "stream",
     "text": [
      "[[178   0   0   0   0   0   0   0   0   0]\n",
      " [  0 182   0   0   0   0   0   0   0   0]\n",
      " [  0   0 177   0   0   0   0   0   0   0]\n",
      " [  0   0   0 183   0   0   0   0   0   0]\n",
      " [  0   0   0   0 181   0   0   0   0   0]\n",
      " [  0   0   0   0   0 181   0   0   0   1]\n",
      " [  0   0   0   0   0   0 181   0   0   0]\n",
      " [  0   0   0   0   0   0   0 178   0   1]\n",
      " [  0   2   0   0   0   0   0   0 172   0]\n",
      " [  0   0   0   0   0   0   0   0   2 178]]\n",
      "Accuracy on the training set: 99.67 %\n"
     ]
    }
   ],
   "source": [
    "clf_digit_ovr = svm.SVC(decision_function_shape='ovr')\n",
    "clf_digit_ovr.fit(X, y)\n",
    "pred = clf_digit_ovr.predict(X)\n",
    "cmat = confusion_matrix(y, pred)\n",
    "print(cmat)\n",
    "accuracy = 100*cmat.diagonal().sum()/cmat.sum()\n",
    "print(\"Accuracy on the training set:\", round(accuracy, 2), \"%\")"
   ]
  },
  {
   "cell_type": "markdown",
   "metadata": {},
   "source": [
    "### Trying out different kernels\n",
    "We can also try out different kernels to see which one performs the best. The four possible kernels are linear, polynomial, sigmoid and radial basis function kernel (rbf)."
   ]
  },
  {
   "cell_type": "code",
   "execution_count": 58,
   "metadata": {},
   "outputs": [
    {
     "name": "stdout",
     "output_type": "stream",
     "text": [
      "Accuracy on the training set with rbf kernel: 99.67 %\n",
      "Accuracy on the training set with linear kernel: 100.0 %\n",
      "Accuracy on the training set with poly kernel: 98.11 %\n",
      "Accuracy on the training set with sigmoid kernel: 95.77 %\n"
     ]
    }
   ],
   "source": [
    "def svm_kernel(X=X,y=y,kern=\"rbf\"):\n",
    "    clf_digit_ovr = svm.SVC(decision_function_shape='ovr', kernel = kern)\n",
    "    clf_digit_ovr.fit(X, y)\n",
    "    pred = clf_digit_ovr.predict(X)\n",
    "    cmat = confusion_matrix(y, pred)\n",
    "    accuracy = 100*cmat.diagonal().sum()/cmat.sum()\n",
    "    print(\"Accuracy on the training set with\", kern, \"kernel:\", round(accuracy, 2), \"%\")\n",
    "\n",
    "svm_kernel()\n",
    "svm_kernel(kern = \"linear\")\n",
    "svm_kernel(kern = \"poly\")\n",
    "svm_kernel(kern = \"sigmoid\")"
   ]
  },
  {
   "cell_type": "markdown",
   "metadata": {},
   "source": [
    "## Regression with SVMs\n",
    "Trying to perform regression on the diabetes data set that was used for linear regression. The MSPE for multiple linear regression was 2004.57. We will see how SVM performs on the same data using different kernels."
   ]
  },
  {
   "cell_type": "code",
   "execution_count": 59,
   "metadata": {},
   "outputs": [
    {
     "name": "stdout",
     "output_type": "stream",
     "text": [
      "MSPE with rbf kernel: 5027.67650771\n",
      "MSPE with linear kernel: 4887.89694401\n",
      "MSPE with poly kernel: 5065.24991432\n",
      "MSPE with sigmoid kernel: 5046.30792257\n"
     ]
    }
   ],
   "source": [
    "diabetes = datasets.load_diabetes()\n",
    "diabetes_X_train = diabetes.data[:-20]\n",
    "diabetes_X_test = diabetes.data[-20:]\n",
    "diabetes_y_train = diabetes.target[:-20]\n",
    "diabetes_y_test = diabetes.target[-20:]\n",
    "\n",
    "for kern in [\"rbf\", \"linear\", \"poly\", \"sigmoid\"]:\n",
    "    svm_reg = svm.SVR(kernel = kern)\n",
    "    svm_reg.fit(diabetes_X_train,diabetes_y_train)\n",
    "    pred = svm_reg.predict(diabetes_X_test)\n",
    "    print(\"MSPE with\", kern, \"kernel:\", mean_squared_error(diabetes_y_test, pred))"
   ]
  },
  {
   "cell_type": "markdown",
   "metadata": {},
   "source": [
    "The SVM performs worse than linear regression. Let's look at another case where the power of SVM regression can be seen.\n",
    "\n",
    "#### Toy example of 1D regression using linear, polynomial and RBF kernels\n",
    "\n",
    "##### Generating sample data\n",
    "\n",
    "We will generate data randomly from a cubic function and then add some noise to the data. We expect the polynomial kernel to perform the best here."
   ]
  },
  {
   "cell_type": "code",
   "execution_count": 60,
   "metadata": {
    "collapsed": true
   },
   "outputs": [],
   "source": [
    "np.random.seed(2017-12-28)\n",
    "X = np.sort(5 * np.random.rand(40, 1), axis=0)\n",
    "y = (X**3).ravel()\n",
    "y[::5] += 3 * (5 - np.random.rand(8))"
   ]
  },
  {
   "cell_type": "markdown",
   "metadata": {},
   "source": [
    "##### Fitting the SVR models using different kernels"
   ]
  },
  {
   "cell_type": "code",
   "execution_count": 61,
   "metadata": {},
   "outputs": [
    {
     "data": {
      "image/png": "[encoded data removed]",
      "text/plain": [
       "<matplotlib.figure.Figure at 0x1f45df04b00>"
      ]
     },
     "metadata": {},
     "output_type": "display_data"
    }
   ],
   "source": [
    "plt.scatter(X,y, label = \"data\")\n",
    "kernels = [\"rbf\", \"linear\", \"poly\", \"sigmoid\"]\n",
    "colors = [\"red\", \"blue\", \"green\", \"yellow\"]\n",
    "for kern, col in zip(kernels, colors):\n",
    "    svr_reg = svm.SVR(kernel = kern)\n",
    "    svr_reg.fit(X,y)\n",
    "    pred = svr_reg.predict(X)\n",
    "    plt.plot(X, pred, color = col, label = kern + \" kernel\")\n",
    "\n",
    "plt.xlabel('data')\n",
    "plt.ylabel('target')\n",
    "plt.title('Support Vector Regression')\n",
    "plt.legend()\n",
    "plt.show()"
   ]
  }
 ],
 "metadata": {
  "kernelspec": {
   "display_name": "Python 3",
   "language": "python",
   "name": "python3"
  },
  "language_info": {
   "codemirror_mode": {
    "name": "ipython",
    "version": 3
   },
   "file_extension": ".py",
   "mimetype": "text/x-python",
   "name": "python",
   "nbconvert_exporter": "python",
   "pygments_lexer": "ipython3",
   "version": "3.6.1"
  }
 },
 "nbformat": 4,
 "nbformat_minor": 2
}
