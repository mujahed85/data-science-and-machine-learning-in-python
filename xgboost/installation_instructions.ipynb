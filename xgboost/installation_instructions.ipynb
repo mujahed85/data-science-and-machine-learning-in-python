{
 "cells": [
  {
   "cell_type": "markdown",
   "metadata": {},
   "source": [
    "# Building XGBoost on Windows with GPU Support\n",
    "\n",
    "This is how I managed to build XGBoost on my environment with GPU support:\n",
    "\n",
    "- Windows 10 (64 bit)\n",
    "- Visual Studio 2015\n",
    "\n",
    "## Basic requirements\n",
    "\n",
    "1. Download and install [Visual C++ 2015 Build Tools](http://landinghub.visualstudio.com/visual-cpp-build-tools)\n",
    "2. CMake can be downloaded from [here](https://cmake.org/download/). I downloaded the 64 bit zip file [cmake-3.10.1-win64-x64.zip](https://cmake.org/files/v3.10/cmake-3.10.1-win64-x64.zip) and unzipped it to `C:\\dev\\cmake-3.10.1-win64-x64`.\n",
    "3. Add `cmake` to your system PATH variable: `C:\\dev\\cmake-3.10.1-win64-x64\\cmake-3.10.1-win64-x64\\bin\\cmake.exe`\n",
    "4. Download and install CUDA from [here](https://developer.nvidia.com/cuda-downloads). This should take a while.\n",
    "\n",
    "## Building XGBoost\n",
    "\n",
    "1. Navigate to home directory: `C:\\Users\\Username`\n",
    "2. Open Git Bash here. Run the commands:\n",
    "```\n",
    "git clone --recursive https://github.com/dmlc/xgboost\n",
    "git submodule init\n",
    "git submodule update\n",
    "```\n",
    "3. Open VS2015 x64 Native Tools command prompt (this should be available after installing the Visual C++ 2015 Build Tools) and run the following commands:\n",
    "```\n",
    "cd C:\\Users\\Username\\xgboost\n",
    "mkdir build\n",
    "cd build\n",
    "cmake .. -G\"Visual Studio 14 2015 Win64\" -DUSE_CUDA=ON\n",
    "cmake --build . --target xgboost --config Release\n",
    "```\n",
    "\n",
    "## Installing \n",
    "1. Install using Anaconda Prompt.\n",
    "```\n",
    "cd C:\\Users\\Username\\xgboost\\python-package\n",
    "python setup.py install\n",
    "```"
   ]
  }
 ],
 "metadata": {
  "kernelspec": {
   "display_name": "Python 3",
   "language": "python",
   "name": "python3"
  },
  "language_info": {
   "codemirror_mode": {
    "name": "ipython",
    "version": 3
   },
   "file_extension": ".py",
   "mimetype": "text/x-python",
   "name": "python",
   "nbconvert_exporter": "python",
   "pygments_lexer": "ipython3",
   "version": "3.6.1"
  }
 },
 "nbformat": 4,
 "nbformat_minor": 2
}
