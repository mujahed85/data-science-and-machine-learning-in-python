{
 "cells": [
  {
   "cell_type": "markdown",
   "metadata": {},
   "source": [
    "# XGBoost Python Tutorial\n",
    "\n",
    "The complete API reference can be found [here](https://xgboost.readthedocs.io/en/latest/python/python_api.html). The following functions are used in this notebook:\n",
    "\n",
    "- [XGBClassifier](https://xgboost.readthedocs.io/en/latest/python/python_api.html#xgboost.XGBClassifier)\n",
    "- [xgb.DMatrix](http://xgboost.readthedocs.io/en/latest/python/python_api.html#xgboost.DMatrix)\n",
    "- [xgb.cv](http://xgboost.readthedocs.io/en/latest/python/python_api.html#xgboost.cv)"
   ]
  },
  {
   "cell_type": "code",
   "execution_count": 46,
   "metadata": {
    "collapsed": true
   },
   "outputs": [],
   "source": [
    "from numpy import loadtxt\n",
    "from xgboost import XGBClassifier\n",
    "from sklearn.model_selection import train_test_split\n",
    "from sklearn.metrics import accuracy_score, confusion_matrix"
   ]
  },
  {
   "cell_type": "markdown",
   "metadata": {},
   "source": [
    "## Example 1 (Classification): Pima Indians onset of diabetes\n",
    "\n",
    "We are going to use the Pima Indians onset of diabetes dataset. This dataset is comprised of 8 input variables that describe medical details of patients and one output variable to indicate whether the patient will have an onset of diabetes within 5 years. You can learn more about this dataset on the [UCI Machine Learning Repository website](https://archive.ics.uci.edu/ml/datasets/Pima+Indians+Diabetes).\n",
    "\n",
    "### Data Preprocessing"
   ]
  },
  {
   "cell_type": "code",
   "execution_count": 47,
   "metadata": {},
   "outputs": [
    {
     "name": "stdout",
     "output_type": "stream",
     "text": [
      "(768, 9)\n"
     ]
    }
   ],
   "source": [
    "# load data using numpy\n",
    "dataset = loadtxt('pima-indians-diabetes.csv', delimiter=\",\")\n",
    "print(dataset.shape)\n",
    "Y = dataset[:, -1] # the last column is the response\n",
    "X = dataset[:, :-1] # everything upto the last column is the data"
   ]
  },
  {
   "cell_type": "code",
   "execution_count": 49,
   "metadata": {
    "collapsed": true,
    "scrolled": true
   },
   "outputs": [],
   "source": [
    "# split the data into train and test sets\n",
    "seed = 2018-1-5\n",
    "test_size = 1/3\n",
    "X_train, X_test, y_train, y_test = train_test_split(X, Y, test_size=test_size, random_state=seed)"
   ]
  },
  {
   "cell_type": "markdown",
   "metadata": {},
   "source": [
    "### Train the XGBoost Model\n",
    "\n",
    "The XGBoost model for classification is called `XGBClassifier`. We can create and and fit it to our training dataset. Models are fit using the scikit-learn API and the `model.fit()` function."
   ]
  },
  {
   "cell_type": "code",
   "execution_count": 50,
   "metadata": {},
   "outputs": [
    {
     "name": "stdout",
     "output_type": "stream",
     "text": [
      "XGBClassifier(base_score=0.5, booster='gbtree', colsample_bylevel=1,\n",
      "       colsample_bytree=1, gamma=0, learning_rate=0.1, max_delta_step=0,\n",
      "       max_depth=3, min_child_weight=1, missing=None, n_estimators=100,\n",
      "       n_jobs=1, nthread=None, objective='binary:logistic',\n",
      "       predictor='gpu_predictor', random_state=0, reg_alpha=0,\n",
      "       reg_lambda=1, scale_pos_weight=1, seed=None, silent=True,\n",
      "       subsample=1)\n"
     ]
    }
   ],
   "source": [
    "# fit model to training data\n",
    "model = XGBClassifier(predictor='gpu_predictor') # use GPU support\n",
    "model.fit(X_train, y_train)\n",
    "print(model)"
   ]
  },
  {
   "cell_type": "markdown",
   "metadata": {},
   "source": [
    "### Predict using the XGBoost model\n",
    "\n",
    "To make predictions we use the scikit-learn function `model.predict()`. By default, the predictions made by XGBoost are probabilities. Because this is a binary classification problem, each prediction is the probability of the input pattern belonging to the first class."
   ]
  },
  {
   "cell_type": "code",
   "execution_count": 29,
   "metadata": {},
   "outputs": [
    {
     "name": "stdout",
     "output_type": "stream",
     "text": [
      "Confusion Matrix:\n",
      " [[136  30]\n",
      " [ 26  62]]\n",
      "Accuracy: 77.95%\n"
     ]
    }
   ],
   "source": [
    "# make predictions for test data\n",
    "y_pred = model.predict(X_test)\n",
    "predictions = [(value>0.5)*1 for value in y_pred]\n",
    "\n",
    "# evaluating ther performance\n",
    "print(\"Confusion Matrix:\\n\", confusion_matrix(predictions, y_test))\n",
    "accuracy = accuracy_score(y_test, predictions)\n",
    "print(\"Accuracy: %.2f%%\" % (accuracy * 100.0))"
   ]
  },
  {
   "cell_type": "markdown",
   "metadata": {},
   "source": [
    "## Parameter Tuning Example\n",
    "\n",
    "\n",
    "\n",
    "The overall parameters have been divided into 3 categories by XGBoost authors:\n",
    "\n",
    "1. **General Parameters:** Guide the overall functioning\n",
    "2. **Booster Parameters:** Guide the individual booster (tree/regression) at each step\n",
    "3. **Learning Task Parameters:** Guide the optimization performed\n",
    "\n",
    "#### General Parameters\n",
    "\n",
    "These define the overall functionality of XGBoost.\n",
    "\n",
    "1. `booster` [default=`gbtree`]: Do not change.\n",
    "2. `silent` [default=0]: Prints running messages while the model is training. Set 1 to turn it off.\n",
    "3. `n_jobs` [default=1]: If you wish to run on all cores, set it to -1.\n",
    "\n",
    "#### Booster Parameters\n",
    "\n",
    "1. `eta` [default=0.3]: Serves the purpose of learning rate. Typical final values to be used: 0.01-0.2\n",
    "2. `min_child_weight` [default=1]: Similar to min_child_leaf in GBM but not exactly. Should be tuned using CV.\n",
    "3. `max_depth` [default=6]: Typical values between 3-10. Should be tuned using CV.\n",
    "4. `max_leaf_nodes`: Since binary trees are created, a depth of ‘n’ would produce a maximum of 2^n leaves. If this is defined, GBM will ignore max_depth.\n",
    "5. `gamma` [default=0]: A node is split only when the resulting split gives a positive reduction in the loss function. Gamma specifies the minimum loss reduction required to make a split. Makes the algorithm conservative. The values can vary depending on the loss function and should be tuned.\n",
    "\n",
    "max_delta_step [default=0]\n",
    "In maximum delta step we allow each tree’s weight estimation to be. If the value is set to 0, it means there is no constraint. If it is set to a positive value, it can help making the update step more conservative.\n",
    "Usually this parameter is not needed, but it might help in logistic regression when class is extremely imbalanced.\n",
    "This is generally not used but you can explore further if you wish.\n",
    "\n",
    "subsample [default=1]\n",
    "Same as the subsample of GBM. Denotes the fraction of observations to be randomly samples for each tree.\n",
    "Lower values make the algorithm more conservative and prevents overfitting but too small values might lead to under-fitting.\n",
    "Typical values: 0.5-1\n",
    "\n",
    "colsample_bytree [default=1]\n",
    "Similar to max_features in GBM. Denotes the fraction of columns to be randomly samples for each tree.\n",
    "Typical values: 0.5-1\n",
    "\n",
    "colsample_bylevel [default=1]\n",
    "Denotes the subsample ratio of columns for each split, in each level.\n",
    "I don’t use this often because subsample and colsample_bytree will do the job for you. but you can explore further if you feel so.\n",
    "\n",
    "lambda [default=1]\n",
    "L2 regularization term on weights (analogous to Ridge regression)\n",
    "This used to handle the regularization part of XGBoost. Though many data scientists don’t use it often, it should be explored to reduce overfitting.\n",
    "\n",
    "alpha [default=0]\n",
    "L1 regularization term on weight (analogous to Lasso regression)\n",
    "Can be used in case of very high dimensionality so that the algorithm runs faster when implemented\n",
    "\n",
    "scale_pos_weight [default=1]\n",
    "A value greater than 0 should be used in case of high class imbalance as it helps in faster convergence.\n",
    " \n",
    "\n",
    "Learning Task Parameters\n",
    "These parameters are used to define the optimization objective the metric to be calculated at each step.\n",
    "\n",
    "objective [default=reg:linear]\n",
    "This defines the loss function to be minimized. Mostly used values are:\n",
    "binary:logistic –logistic regression for binary classification, returns predicted probability (not class)\n",
    "multi:softmax –multiclass classification using the softmax objective, returns predicted class (not probabilities)\n",
    "you also need to set an additional num_class (number of classes) parameter defining the number of unique classes\n",
    "multi:softprob –same as softmax, but returns predicted probability of each data point belonging to each class.\n",
    "eval_metric [ default according to objective ]\n",
    "The metric to be used for validation data.\n",
    "The default values are rmse for regression and error for classification.\n",
    "Typical values are:\n",
    "rmse – root mean square error\n",
    "mae – mean absolute error\n",
    "logloss – negative log-likelihood\n",
    "error – Binary classification error rate (0.5 threshold)\n",
    "merror – Multiclass classification error rate\n",
    "mlogloss – Multiclass logloss\n",
    "auc: Area under the curve\n",
    "seed [default=0]\n",
    "The random number seed.\n",
    "Can be used for generating reproducible results and also for parameter tuning.\n",
    "If you’ve been using Scikit-Learn till now, these parameter names might not look familiar. A good news is that xgboost module in python has an sklearn wrapper called XGBClassifier. It uses sklearn style naming convention. The parameters names which will change are:\n",
    "\n",
    "eta –> learning_rate\n",
    "lambda –> reg_lambda\n",
    "alpha –> reg_alpha\n",
    "You must be wondering that we have defined everything except something similar to the “n_estimators” parameter in GBM. Well this exists as a parameter in XGBClassifier. However, it has to be passed as “num_boosting_rounds” while calling the fit function in the standard xgboost implementation."
   ]
  },
  {
   "cell_type": "code",
   "execution_count": 54,
   "metadata": {
    "collapsed": true
   },
   "outputs": [],
   "source": [
    "#Import libraries:\n",
    "import pandas as pd\n",
    "import numpy as np\n",
    "import xgboost as xgb\n",
    "from xgboost.sklearn import XGBClassifier\n",
    "from sklearn.model_selection import cross_val_score, GridSearchCV\n",
    "from sklearn import metrics\n",
    "import matplotlib.pylab as plt\n",
    "from matplotlib.pylab import rcParams\n",
    "%matplotlib inline\n",
    "\n",
    "train = pd.read_csv('train_modified.csv')\n",
    "target = 'Disbursed'\n",
    "IDcol = 'ID'"
   ]
  },
  {
   "cell_type": "markdown",
   "metadata": {},
   "source": [
    "### General Approach for Parameter Tuning\n",
    "\n",
    "1. Choose a relatively high learning rate. Generally a learning rate of 0.1 works but somewhere between 0.05 to 0.3 should work for different problems. Determine the optimum number of trees for this learning rate. XGBoost has a very useful function called as “cv” which performs cross-validation at each boosting iteration and thus returns the optimum number of trees required.\n",
    "2. Tune tree-specific parameters ( max_depth, min_child_weight, gamma, subsample, colsample_bytree) for decided learning rate and number of trees. Note that we can choose different parameters to define a tree and I’ll take up an example here.\n",
    "3. Tune regularization parameters (lambda, alpha) for xgboost which can help reduce model complexity and enhance performance.\n",
    "4. Lower the learning rate and decide the optimal parameters ."
   ]
  },
  {
   "cell_type": "code",
   "execution_count": 42,
   "metadata": {
    "collapsed": true
   },
   "outputs": [],
   "source": [
    "#Choose all predictors except target & IDcols\n",
    "predictors = [x for x in train.columns if x not in [target, IDcol]]\n",
    "\n",
    "# set the initial values of the parameters, we will tune these values later\n",
    "xgb1 = XGBClassifier(\n",
    " learning_rate =0.1,\n",
    " n_estimators=1000,\n",
    " max_depth=5,\n",
    " min_child_weight=1,\n",
    " gamma=0,\n",
    " subsample=0.8,\n",
    " colsample_bytree=0.8,\n",
    " objective= 'binary:logistic',\n",
    " n_jobs=4,\n",
    " scale_pos_weight=1,\n",
    " seed=27)"
   ]
  },
  {
   "cell_type": "markdown",
   "metadata": {},
   "source": [
    "##### Functions used in this code\n",
    "Have a look at these function signatures and what they do. [xgb.DMatrix](http://xgboost.readthedocs.io/en/latest/python/python_api.html#xgboost.DMatrix), [xgb.cv](http://xgboost.readthedocs.io/en/latest/python/python_api.html#xgboost.cv)"
   ]
  },
  {
   "cell_type": "code",
   "execution_count": 43,
   "metadata": {},
   "outputs": [
    {
     "data": {
      "text/plain": [
       "{'base_score': 0.5,\n",
       " 'booster': 'gbtree',\n",
       " 'colsample_bylevel': 1,\n",
       " 'colsample_bytree': 0.8,\n",
       " 'gamma': 0,\n",
       " 'learning_rate': 0.1,\n",
       " 'max_delta_step': 0,\n",
       " 'max_depth': 5,\n",
       " 'min_child_weight': 1,\n",
       " 'missing': None,\n",
       " 'n_estimators': 1000,\n",
       " 'nthread': 4,\n",
       " 'objective': 'binary:logistic',\n",
       " 'reg_alpha': 0,\n",
       " 'reg_lambda': 1,\n",
       " 'scale_pos_weight': 1,\n",
       " 'seed': 27,\n",
       " 'silent': 1,\n",
       " 'subsample': 0.8}"
      ]
     },
     "execution_count": 43,
     "metadata": {},
     "output_type": "execute_result"
    }
   ],
   "source": [
    "# before moving further, have a look at what these functions do\n",
    "\n",
    "# get_xgb_params() returns a dictionary of all the parameters passed to the model, inluding the ones that are set to the default values\n",
    "xgb1.get_xgb_params()"
   ]
  },
  {
   "cell_type": "markdown",
   "metadata": {},
   "source": [
    "##### A function to create XGBoost models and perform cross-validation"
   ]
  },
  {
   "cell_type": "code",
   "execution_count": 65,
   "metadata": {},
   "outputs": [],
   "source": [
    "def modelfit(alg, dtrain, predictors,useTrainCV=True, cv_folds=5, early_stopping_rounds=50):\n",
    "    \n",
    "    if useTrainCV:\n",
    "        xgb_param = alg.get_xgb_params()\n",
    "        xgtrain = xgb.DMatrix(dtrain[predictors].values, label=dtrain[target].values) \n",
    "        # .values converts it to numpy array\n",
    "        \n",
    "        # perform cross validation for the given parameters on this model and return the error\n",
    "        cvresult = xgb.cv(xgb_param, xgtrain, nfold=cv_folds, metrics='auc',\n",
    "                          num_boost_round=alg.get_params()['n_estimators'],  # no of rounds same as no of trees\n",
    "                          early_stopping_rounds=early_stopping_rounds)\n",
    "                        # CV error needs to decrease at least once in these many rounds.\n",
    "\n",
    "        # cvresult will return a pandas DataFrame containing the mean error (AUC here) for each iteration until \n",
    "        # the metric is increasing. Therefore, we know that after those iterations, the AUC doesn not increase, \n",
    "        # therefore we will set the n_estimators to be the number of rows in this data frame\n",
    "        alg.set_params(n_estimators=cvresult.shape[0]) # sets the n_estimators parameter as justified above\n",
    "    \n",
    "    #Fit the algorithm on the data\n",
    "    alg.fit(dtrain[predictors], dtrain['Disbursed'],eval_metric='auc')\n",
    "        \n",
    "    #Predict training set:\n",
    "    dtrain_predictions = alg.predict(dtrain[predictors])\n",
    "    dtrain_predprob = alg.predict_proba(dtrain[predictors])[:,1]\n",
    "        \n",
    "    #Print model report:\n",
    "    print (\"\\nModel Report\")\n",
    "    print (\"Accuracy (Train) : %.4g\" % metrics.accuracy_score(dtrain['Disbursed'].values, dtrain_predictions))\n",
    "    print (\"AUC Score (Train): %f\" % metrics.roc_auc_score(dtrain['Disbursed'], dtrain_predprob))\n",
    "                    \n",
    "    # plotting feature imporatance scores\n",
    "    rcParams['figure.figsize'] = 12, 15 # increasing figure size to make the plot readable\n",
    "    xgb.plot_importance(alg)"
   ]
  },
  {
   "cell_type": "code",
   "execution_count": 66,
   "metadata": {},
   "outputs": [
    {
     "name": "stdout",
     "output_type": "stream",
     "text": [
      "\n",
      "Model Report\n",
      "Accuracy (Train) : 0.9854\n",
      "AUC Score (Train): 0.895159\n"
     ]
    },
    {
     "data": {
      "image/png": "[encoded data removed]",
      "text/plain": [
       "<matplotlib.figure.Figure at 0x20282366630>"
      ]
     },
     "metadata": {},
     "output_type": "display_data"
    }
   ],
   "source": [
    "modelfit(xgb1, train, predictors)"
   ]
  },
  {
   "cell_type": "code",
   "execution_count": 69,
   "metadata": {},
   "outputs": [
    {
     "data": {
      "text/plain": [
       "118"
      ]
     },
     "execution_count": 69,
     "metadata": {},
     "output_type": "execute_result"
    }
   ],
   "source": [
    "n_estimators = xgb1.get_xgb_params()['n_estimators']\n",
    "n_estimators"
   ]
  },
  {
   "cell_type": "markdown",
   "metadata": {},
   "source": [
    "Step 2: Tune max_depth and min_child_weight\n",
    "We tune these first as they will have the highest impact on model outcome. To start with, let’s set wider ranges and then we will perform another iteration for smaller ranges.\n",
    "\n",
    "Important Note: I’ll be doing some heavy-duty grid searched in this section which can take 15-30 mins or even more time to run depending on your system. You can vary the number of values you are testing based on what your system can handle."
   ]
  },
  {
   "cell_type": "code",
   "execution_count": 71,
   "metadata": {},
   "outputs": [
    {
     "name": "stderr",
     "output_type": "stream",
     "text": [
      "C:\\ProgramData\\Anaconda3\\lib\\site-packages\\sklearn\\model_selection\\_search.py:667: DeprecationWarning: The grid_scores_ attribute was deprecated in version 0.18 in favor of the more elaborate cv_results_ attribute. The grid_scores_ attribute will not be available from 0.20\n",
      "  DeprecationWarning)\n"
     ]
    },
    {
     "data": {
      "text/plain": [
       "([mean: 0.83649, std: 0.00949, params: {'max_depth': 3, 'min_child_weight': 1},\n",
       "  mean: 0.83613, std: 0.00930, params: {'max_depth': 3, 'min_child_weight': 3},\n",
       "  mean: 0.83590, std: 0.00979, params: {'max_depth': 3, 'min_child_weight': 5},\n",
       "  mean: 0.84181, std: 0.00786, params: {'max_depth': 5, 'min_child_weight': 1},\n",
       "  mean: 0.84164, std: 0.00731, params: {'max_depth': 5, 'min_child_weight': 3},\n",
       "  mean: 0.84091, std: 0.00586, params: {'max_depth': 5, 'min_child_weight': 5},\n",
       "  mean: 0.83836, std: 0.00702, params: {'max_depth': 7, 'min_child_weight': 1},\n",
       "  mean: 0.83794, std: 0.00687, params: {'max_depth': 7, 'min_child_weight': 3},\n",
       "  mean: 0.83846, std: 0.00599, params: {'max_depth': 7, 'min_child_weight': 5},\n",
       "  mean: 0.83253, std: 0.00659, params: {'max_depth': 9, 'min_child_weight': 1},\n",
       "  mean: 0.83297, std: 0.00768, params: {'max_depth': 9, 'min_child_weight': 3},\n",
       "  mean: 0.83334, std: 0.00584, params: {'max_depth': 9, 'min_child_weight': 5}],\n",
       " {'max_depth': 5, 'min_child_weight': 1},\n",
       " 0.84180682563025633)"
      ]
     },
     "execution_count": 71,
     "metadata": {},
     "output_type": "execute_result"
    }
   ],
   "source": [
    "param_test1 = {\n",
    " 'max_depth':range(3,10,2),\n",
    " 'min_child_weight':range(1,6,2)\n",
    "}\n",
    "gsearch1 = GridSearchCV(estimator = XGBClassifier(learning_rate=0.1, n_estimators=n_estimators, gamma=0, \n",
    "                                                  subsample=0.8, colsample_bytree=0.8, \n",
    "                                                  objective= 'binary:logistic', nthread=4, \n",
    "                                                  scale_pos_weight=1, seed=27),\n",
    "                        param_grid = param_test1, scoring='roc_auc',n_jobs=4,iid=False, cv=5)\n",
    "\n",
    "gsearch1.fit(train[predictors],train[target])\n",
    "gsearch1.cv_results_, gsearch1.best_params_, gsearch1.best_score_"
   ]
  },
  {
   "cell_type": "markdown",
   "metadata": {},
   "source": [
    "Here, we have run 12 combinations with wider intervals between values. The ideal values are 5 for max_depth and 5 for min_child_weight. Lets go one step deeper and look for optimum values. We’ll search for values 1 above and below the optimum values because we took an interval of two."
   ]
  },
  {
   "cell_type": "code",
   "execution_count": null,
   "metadata": {
    "collapsed": true
   },
   "outputs": [],
   "source": [
    "param_test2 = {\n",
    " 'max_depth':[4,5,6],\n",
    " 'min_child_weight':[4,5,6]\n",
    "}\n",
    "gsearch2 = GridSearchCV(estimator = XGBClassifier( learning_rate=0.1, n_estimators=140, max_depth=5,\n",
    " min_child_weight=2, gamma=0, subsample=0.8, colsample_bytree=0.8,\n",
    " objective= 'binary:logistic', nthread=4, scale_pos_weight=1,seed=27), \n",
    " param_grid = param_test2, scoring='roc_auc',n_jobs=4,iid=False, cv=5)\n",
    "gsearch2.fit(train[predictors],train[target])\n",
    "gsearch2.grid_scores_, gsearch2.best_params_, gsearch2.best_score_"
   ]
  },
  {
   "cell_type": "markdown",
   "metadata": {},
   "source": [
    "## Testing GPU support\n"
   ]
  },
  {
   "cell_type": "code",
   "execution_count": 1,
   "metadata": {},
   "outputs": [
    {
     "name": "stdout",
     "output_type": "stream",
     "text": [
      "Starting GPU:\n",
      "[0]\ttest-merror:0.254817\n",
      "[1]\ttest-merror:0.247733\n",
      "[2]\ttest-merror:0.244208\n",
      "[3]\ttest-merror:0.240367\n",
      "[4]\ttest-merror:0.23888\n",
      "[5]\ttest-merror:0.234453\n",
      "[6]\ttest-merror:0.232932\n",
      "[7]\ttest-merror:0.231252\n",
      "[8]\ttest-merror:0.227665\n",
      "[9]\ttest-merror:0.226178\n",
      "GPU Training Time: 84.54550552368164 seconds\n",
      "GPU done!\n",
      "[0]\ttest-merror:0.254831\n",
      "[1]\ttest-merror:0.247912\n",
      "[2]\ttest-merror:0.244298\n",
      "[3]\ttest-merror:0.24069\n",
      "[4]\ttest-merror:0.238536\n",
      "[5]\ttest-merror:0.234804\n",
      "[6]\ttest-merror:0.232229\n",
      "[7]\ttest-merror:0.229703\n",
      "[8]\ttest-merror:0.227162\n",
      "[9]\ttest-merror:0.224519\n",
      "CPU Training Time: 40.91526460647583 seconds\n",
      "CPU Done!\n"
     ]
    }
   ],
   "source": [
    "import xgboost as xgb\n",
    "import numpy as np\n",
    "from sklearn.datasets import fetch_covtype\n",
    "from sklearn.model_selection import train_test_split\n",
    "import time\n",
    "\n",
    "# Fetch dataset using sklearn\n",
    "cov = fetch_covtype()\n",
    "X = cov.data\n",
    "y = cov.target\n",
    "\n",
    "# Create 0.75/0.25 train/test split\n",
    "X_train, X_test, y_train, y_test = train_test_split(X, y, test_size=0.25, train_size=0.75,\n",
    "                                                    random_state=42)\n",
    "\n",
    "# Specify sufficient boosting iterations to reach a minimum\n",
    "num_round = 10\n",
    "\n",
    "# Leave most parameters as default\n",
    "param = {'objective': 'multi:softmax', # Specify multiclass classification\n",
    "         'num_class': 8, # Number of possible output classes\n",
    "         'tree_method': 'gpu_hist' # Use GPU accelerated algorithm\n",
    "         }\n",
    "\n",
    "# Convert input data from numpy to XGBoost format\n",
    "dtrain = xgb.DMatrix(X_train, label=y_train)\n",
    "dtest = xgb.DMatrix(X_test, label=y_test)\n",
    "\n",
    "gpu_res = {} # Store accuracy result\n",
    "print(\"Starting GPU:\")\n",
    "tmp = time.time()\n",
    "# Train model\n",
    "xgb.train(param, dtrain, num_round, evals=[(dtest, 'test')], evals_result=gpu_res)\n",
    "print(\"GPU Training Time: %s seconds\" % (str(time.time() - tmp)))\n",
    "print(\"GPU done!\")\n",
    "\n",
    "# Repeat for CPU algorithm\n",
    "tmp = time.time()\n",
    "param['tree_method'] = 'hist'\n",
    "cpu_res = {}\n",
    "xgb.train(param, dtrain, num_round, evals=[(dtest, 'test')], evals_result=cpu_res)\n",
    "print(\"CPU Training Time: %s seconds\" % (str(time.time() - tmp)))\n",
    "print(\"CPU Done!\")"
   ]
  }
 ],
 "metadata": {
  "kernelspec": {
   "display_name": "Python 3",
   "language": "python",
   "name": "python3"
  },
  "language_info": {
   "codemirror_mode": {
    "name": "ipython",
    "version": 3
   },
   "file_extension": ".py",
   "mimetype": "text/x-python",
   "name": "python",
   "nbconvert_exporter": "python",
   "pygments_lexer": "ipython3",
   "version": "3.6.1"
  }
 },
 "nbformat": 4,
 "nbformat_minor": 2
}
