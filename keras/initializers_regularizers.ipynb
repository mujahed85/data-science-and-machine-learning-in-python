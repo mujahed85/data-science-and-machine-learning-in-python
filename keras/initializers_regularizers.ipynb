{
 "cells": [
  {
   "cell_type": "markdown",
   "metadata": {},
   "source": [
    "# Initializers and Regularizers\n",
    "\n",
    "\n",
    "## Initializers\n",
    "\n",
    "The [keras.initializers](https://keras.io/initializers/) library provides multiple methods to initialize the random weights of Keras layers. Find the complete list of initializers in the [documentation](https://keras.io/initializers/).\n",
    "\n",
    "### Usage of initializers\n",
    "\n",
    "The keyword arguments used for passing initializers to layers will depend on the layer. Usually it is simply `kernel_initializer` and `bias_initializer`:\n",
    "\n",
    "```\n",
    "from keras import initializers\n",
    "\n",
    "model.add(Dense(64, kernel_initializer=initializers.random_normal(stddev=0.01)))\n",
    "\n",
    "# also works; will use the default parameters.\n",
    "model.add(Dense(64, kernel_initializer='random_normal'))\n",
    "```\n",
    "\n",
    "## Regularizers\n",
    "\n",
    "[keras.regularizers](https://keras.io/regularizers/) provides $L^1$ and $L^2$ regularizations over the kernel, bias, and ativation during optimization. These penalties are incorporated in the loss function that the network optimizes.\n",
    "\n",
    "### Available penalties\n",
    "\n",
    "```\n",
    "keras.regularizers.l1(0.)\n",
    "keras.regularizers.l2(0.)\n",
    "keras.regularizers.l1_l2(0.)\n",
    "```\n",
    "\n",
    "### Usage \n",
    "\n",
    "```\n",
    "from keras import regularizers\n",
    "model.add(Dense(64, input_dim=64,\n",
    "                kernel_regularizer=regularizers.l2(0.01),\n",
    "                activity_regularizer=regularizers.l1(0.01)))\n",
    "```\n"
   ]
  }
 ],
 "metadata": {
  "kernelspec": {
   "display_name": "Python 3",
   "language": "python",
   "name": "python3"
  },
  "language_info": {
   "codemirror_mode": {
    "name": "ipython",
    "version": 3
   },
   "file_extension": ".py",
   "mimetype": "text/x-python",
   "name": "python",
   "nbconvert_exporter": "python",
   "pygments_lexer": "ipython3",
   "version": "3.6.1"
  }
 },
 "nbformat": 4,
 "nbformat_minor": 2
}
